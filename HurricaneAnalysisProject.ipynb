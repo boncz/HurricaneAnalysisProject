{
 "cells": [
  {
   "cell_type": "markdown",
   "id": "fc0f1ad1",
   "metadata": {},
   "source": [
    "1. Hurricanes, also known as cyclones or typhoons, are one of the most powerful forces of nature on Earth. Due to climate change caused by human activity, the number and intensity of hurricanes has risen, calling for better preparation by the many communities that are devastated by them. As a concerned environmentalist, you want to look at data about the most powerful hurricanes that have occured. \n",
    "\n",
    "   Begin by looking at the `damages` list. The list contains strings representing the total cost in USD(`$`) caused by `34` category 5 hurricanes (wind speeds $\\ge$ 157 mph (252 km/h)) in the Atlantic region. For some of the hurricanes, damage data was not recorded (`\"Damages not recorded\"`), while the rest are written in the format `\"Prefix-B/M\"`, where `B` stands for billions (`1000000000`) and `M` stands for millions (`1000000`).\n",
    "   \n",
    "   Write a function that returns a new list of updated damages where the recorded data is converted to float values and the missing data is retained as `\"Damages not recorded\"`.\n",
    "   \n",
    "   Test your function with the data stored in `damages`."
   ]
  },
  {
   "cell_type": "code",
   "execution_count": 4,
   "id": "bc2439d8",
   "metadata": {},
   "outputs": [],
   "source": [
    "# damages (USD($)) of hurricanes\n",
    "damages = ['Damages not recorded', '100M', 'Damages not recorded', '40M',\n",
    "          '27.9M', '5M', 'Damages not recorded', '306M', '2M', '65.8M',\n",
    "          '326M', '60.3M', '208M', '1.42B', '25.4M', 'Damages not recorded',\n",
    "          '1.54B', '1.24B', '7.1B', '10B', '26.5B', '6.2B', '5.37B', '23.3B',\n",
    "          '1.01B', '125B', '12B', '29.4B', '1.76B', '720M', '15.1B', '64.8B',\n",
    "          '91.6B', '25.1B']\n",
    "\n",
    "# 1\n",
    "# Update Recorded Damages\n",
    "conversion = {\"M\": 1000000,\n",
    "             \"B\": 1000000000}\n",
    "\n",
    "# test function by updating damages"
   ]
  },
  {
   "cell_type": "code",
   "execution_count": 19,
   "id": "e36ea341",
   "metadata": {},
   "outputs": [
    {
     "name": "stdout",
     "output_type": "stream",
     "text": [
      "['Damages not recorded', 100000000.0, 'Damages not recorded', 40000000.0, 27900000.0, 5000000.0, 'Damages not recorded', 306000000.0, 2000000.0, 65800000.0, 326000000.0, 60300000.0, 208000000.0, 1420000000.0, 25400000.0, 'Damages not recorded', 1540000000.0, 1240000000.0, 7100000000.0, 10000000000.0, 26500000000.0, 6200000000.0, 5370000000.0, 23300000000.0, 1010000000.0, 125000000000.0, 12000000000.0, 29400000000.0, 1760000000.0, 720000000.0, 15100000000.0, 64800000000.0, 91600000000.0, 25100000000.0]\n"
     ]
    }
   ],
   "source": [
    "def update_damages(list):\n",
    "    updated_damages = []\n",
    "    for item in list:\n",
    "        if item == \"Damages not recorded\":\n",
    "            updated_damages.append(item)\n",
    "        else:\n",
    "            for char in item:\n",
    "                if char in conversion.keys():\n",
    "                    item = float(float(item[:-1])*conversion[char])\n",
    "                    updated_damages.append(item)\n",
    "    print(updated_damages)\n",
    "                \n",
    "update_damages(damages)\n"
   ]
  },
  {
   "cell_type": "code",
   "execution_count": null,
   "id": "88466248",
   "metadata": {},
   "outputs": [],
   "source": []
  }
 ],
 "metadata": {
  "kernelspec": {
   "display_name": "Python 3 (ipykernel)",
   "language": "python",
   "name": "python3"
  },
  "language_info": {
   "codemirror_mode": {
    "name": "ipython",
    "version": 3
   },
   "file_extension": ".py",
   "mimetype": "text/x-python",
   "name": "python",
   "nbconvert_exporter": "python",
   "pygments_lexer": "ipython3",
   "version": "3.10.11"
  }
 },
 "nbformat": 4,
 "nbformat_minor": 5
}
